{
 "cells": [
  {
   "cell_type": "code",
   "execution_count": 37,
   "metadata": {},
   "outputs": [],
   "source": [
    "import pandas as pd\n",
    "import html as h\n",
    "import json\n",
    "import time\n",
    "import pickle"
   ]
  },
  {
   "cell_type": "code",
   "execution_count": 38,
   "metadata": {},
   "outputs": [],
   "source": [
    "df = pd.read_csv('theme_title_artist.csv', encoding='cp949')\n",
    "df.columns = ['theme','title']"
   ]
  },
  {
   "cell_type": "code",
   "execution_count": 39,
   "metadata": {},
   "outputs": [
    {
     "name": "stdout",
     "output_type": "stream",
     "text": [
      "1343\n"
     ]
    }
   ],
   "source": [
    "with open('v_list.pkl', 'rb') as f:\n",
    "    v_list = pickle.load(f)\n",
    "    print(len(v_list))"
   ]
  },
  {
   "cell_type": "code",
   "execution_count": 40,
   "metadata": {},
   "outputs": [],
   "source": [
    "df['videourl'] = v_list\n",
    "df = df[df['videourl'] != 'error']\n",
    "df = df.reset_index(drop=True)"
   ]
  },
  {
   "cell_type": "code",
   "execution_count": 41,
   "metadata": {},
   "outputs": [],
   "source": [
    "emotion = []\n",
    "for _ in range(len(df)):\n",
    "    if df['theme'][_] in ['사랑/기쁨', '썸 탈때', '고백', '싱숭생숭', '설렘/심쿵', '힐링', '새벽감성']:\n",
    "        emotion.append('positive')\n",
    "    else : \n",
    "        emotion.append('negative')"
   ]
  },
  {
   "cell_type": "code",
   "execution_count": 42,
   "metadata": {},
   "outputs": [],
   "source": [
    "df['emotion'] = emotion\n",
    "final = df[['emotion','title','videourl']]\n",
    "final.to_csv('emotion_title_url.csv', encoding='cp949', index=False)"
   ]
  },
  {
   "cell_type": "code",
   "execution_count": 19,
   "metadata": {},
   "outputs": [],
   "source": [
    "with open('theme_title_artist_url_records.json', 'w', encoding='utf-8') as f:\n",
    "    df.to_json(f, force_ascii=False, orient='records')"
   ]
  },
  {
   "cell_type": "code",
   "execution_count": 20,
   "metadata": {},
   "outputs": [],
   "source": [
    "with open('theme_title_artist_url_columns.json', 'w', encoding='utf-8') as f:\n",
    "    df.to_json(f, force_ascii=False, orient='columns') "
   ]
  },
  {
   "cell_type": "code",
   "execution_count": null,
   "metadata": {},
   "outputs": [],
   "source": []
  }
 ],
 "metadata": {
  "kernelspec": {
   "display_name": "Python 3.7.16 ('scrapy')",
   "language": "python",
   "name": "python3"
  },
  "language_info": {
   "codemirror_mode": {
    "name": "ipython",
    "version": 3
   },
   "file_extension": ".py",
   "mimetype": "text/x-python",
   "name": "python",
   "nbconvert_exporter": "python",
   "pygments_lexer": "ipython3",
   "version": "3.7.16"
  },
  "orig_nbformat": 4,
  "vscode": {
   "interpreter": {
    "hash": "89f2608b9c8c93d5d1a1551aadcf951cf7a6ded39afbf442850111ba01dca86c"
   }
  }
 },
 "nbformat": 4,
 "nbformat_minor": 2
}
