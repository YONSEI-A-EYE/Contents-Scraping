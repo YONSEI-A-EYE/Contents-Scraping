{
 "cells": [
  {
   "cell_type": "code",
   "execution_count": 3,
   "metadata": {},
   "outputs": [],
   "source": [
    "import pandas as pd\n",
    "import html as h\n",
    "import json\n",
    "import time\n",
    "import pickle"
   ]
  },
  {
   "cell_type": "code",
   "execution_count": 13,
   "metadata": {},
   "outputs": [
    {
     "data": {
      "text/html": [
       "<div>\n",
       "<style scoped>\n",
       "    .dataframe tbody tr th:only-of-type {\n",
       "        vertical-align: middle;\n",
       "    }\n",
       "\n",
       "    .dataframe tbody tr th {\n",
       "        vertical-align: top;\n",
       "    }\n",
       "\n",
       "    .dataframe thead th {\n",
       "        text-align: right;\n",
       "    }\n",
       "</style>\n",
       "<table border=\"1\" class=\"dataframe\">\n",
       "  <thead>\n",
       "    <tr style=\"text-align: right;\">\n",
       "      <th></th>\n",
       "      <th>theme</th>\n",
       "      <th>title_artist</th>\n",
       "    </tr>\n",
       "  </thead>\n",
       "  <tbody>\n",
       "    <tr>\n",
       "      <th>0</th>\n",
       "      <td>사랑/기쁨</td>\n",
       "      <td>사랑 그 깊은 곳 정인</td>\n",
       "    </tr>\n",
       "    <tr>\n",
       "      <th>1</th>\n",
       "      <td>사랑/기쁨</td>\n",
       "      <td>Like Water 웬디(WENDY)</td>\n",
       "    </tr>\n",
       "    <tr>\n",
       "      <th>2</th>\n",
       "      <td>사랑/기쁨</td>\n",
       "      <td>난 당신의 고요함이 오왠(O.WHEN)</td>\n",
       "    </tr>\n",
       "    <tr>\n",
       "      <th>3</th>\n",
       "      <td>사랑/기쁨</td>\n",
       "      <td>꽃말 신인류</td>\n",
       "    </tr>\n",
       "    <tr>\n",
       "      <th>4</th>\n",
       "      <td>사랑/기쁨</td>\n",
       "      <td>우리 사이 은하수를 만들어 오존(O3ohn)</td>\n",
       "    </tr>\n",
       "    <tr>\n",
       "      <th>...</th>\n",
       "      <td>...</td>\n",
       "      <td>...</td>\n",
       "    </tr>\n",
       "    <tr>\n",
       "      <th>1338</th>\n",
       "      <td>힐링</td>\n",
       "      <td>Bouquet Nogymx</td>\n",
       "    </tr>\n",
       "    <tr>\n",
       "      <th>1339</th>\n",
       "      <td>힐링</td>\n",
       "      <td>Nella Laguna Wun Two</td>\n",
       "    </tr>\n",
       "    <tr>\n",
       "      <th>1340</th>\n",
       "      <td>힐링</td>\n",
       "      <td>Mysterious Night KLIM</td>\n",
       "    </tr>\n",
       "    <tr>\n",
       "      <th>1341</th>\n",
       "      <td>힐링</td>\n",
       "      <td>constellations Hoffy Beats</td>\n",
       "    </tr>\n",
       "    <tr>\n",
       "      <th>1342</th>\n",
       "      <td>힐링</td>\n",
       "      <td>벚꽃 흩날리는 날 Angella Kim(안젤라김)</td>\n",
       "    </tr>\n",
       "  </tbody>\n",
       "</table>\n",
       "<p>1343 rows × 2 columns</p>\n",
       "</div>"
      ],
      "text/plain": [
       "      theme                 title_artist\n",
       "0     사랑/기쁨                 사랑 그 깊은 곳 정인\n",
       "1     사랑/기쁨         Like Water 웬디(WENDY)\n",
       "2     사랑/기쁨        난 당신의 고요함이 오왠(O.WHEN)\n",
       "3     사랑/기쁨                       꽃말 신인류\n",
       "4     사랑/기쁨     우리 사이 은하수를 만들어 오존(O3ohn)\n",
       "...     ...                          ...\n",
       "1338     힐링               Bouquet Nogymx\n",
       "1339     힐링         Nella Laguna Wun Two\n",
       "1340     힐링        Mysterious Night KLIM\n",
       "1341     힐링   constellations Hoffy Beats\n",
       "1342     힐링  벚꽃 흩날리는 날 Angella Kim(안젤라김)\n",
       "\n",
       "[1343 rows x 2 columns]"
      ]
     },
     "execution_count": 13,
     "metadata": {},
     "output_type": "execute_result"
    }
   ],
   "source": [
    "df = pd.read_csv('theme_title_artist.csv', encoding='cp949')\n",
    "df.columns = ['theme','title_artist']\n",
    "df"
   ]
  },
  {
   "cell_type": "code",
   "execution_count": 7,
   "metadata": {},
   "outputs": [
    {
     "name": "stdout",
     "output_type": "stream",
     "text": [
      "1343\n"
     ]
    }
   ],
   "source": [
    "with open('v_list.pkl', 'rb') as f:\n",
    "    v_list = pickle.load(f)\n",
    "    print(len(v_list))"
   ]
  },
  {
   "cell_type": "code",
   "execution_count": 16,
   "metadata": {},
   "outputs": [],
   "source": [
    "df['url_v'] = v_list"
   ]
  },
  {
   "cell_type": "code",
   "execution_count": 17,
   "metadata": {},
   "outputs": [
    {
     "data": {
      "text/html": [
       "<div>\n",
       "<style scoped>\n",
       "    .dataframe tbody tr th:only-of-type {\n",
       "        vertical-align: middle;\n",
       "    }\n",
       "\n",
       "    .dataframe tbody tr th {\n",
       "        vertical-align: top;\n",
       "    }\n",
       "\n",
       "    .dataframe thead th {\n",
       "        text-align: right;\n",
       "    }\n",
       "</style>\n",
       "<table border=\"1\" class=\"dataframe\">\n",
       "  <thead>\n",
       "    <tr style=\"text-align: right;\">\n",
       "      <th></th>\n",
       "      <th>theme</th>\n",
       "      <th>title_artist</th>\n",
       "      <th>url_v</th>\n",
       "    </tr>\n",
       "  </thead>\n",
       "  <tbody>\n",
       "    <tr>\n",
       "      <th>0</th>\n",
       "      <td>사랑/기쁨</td>\n",
       "      <td>사랑 그 깊은 곳 정인</td>\n",
       "      <td>dp9ooFjjp9g</td>\n",
       "    </tr>\n",
       "    <tr>\n",
       "      <th>1</th>\n",
       "      <td>사랑/기쁨</td>\n",
       "      <td>Like Water 웬디(WENDY)</td>\n",
       "      <td>CAfarUrfG9o</td>\n",
       "    </tr>\n",
       "    <tr>\n",
       "      <th>2</th>\n",
       "      <td>사랑/기쁨</td>\n",
       "      <td>난 당신의 고요함이 오왠(O.WHEN)</td>\n",
       "      <td>dR5IAVeUqyI</td>\n",
       "    </tr>\n",
       "    <tr>\n",
       "      <th>3</th>\n",
       "      <td>사랑/기쁨</td>\n",
       "      <td>꽃말 신인류</td>\n",
       "      <td>QKm99bWL3TQ</td>\n",
       "    </tr>\n",
       "    <tr>\n",
       "      <th>4</th>\n",
       "      <td>사랑/기쁨</td>\n",
       "      <td>우리 사이 은하수를 만들어 오존(O3ohn)</td>\n",
       "      <td>r_NEGkyfdtM</td>\n",
       "    </tr>\n",
       "    <tr>\n",
       "      <th>...</th>\n",
       "      <td>...</td>\n",
       "      <td>...</td>\n",
       "      <td>...</td>\n",
       "    </tr>\n",
       "    <tr>\n",
       "      <th>1338</th>\n",
       "      <td>힐링</td>\n",
       "      <td>Bouquet Nogymx</td>\n",
       "      <td>yO--QNwlFnw</td>\n",
       "    </tr>\n",
       "    <tr>\n",
       "      <th>1339</th>\n",
       "      <td>힐링</td>\n",
       "      <td>Nella Laguna Wun Two</td>\n",
       "      <td>Fe60FUzrpJE</td>\n",
       "    </tr>\n",
       "    <tr>\n",
       "      <th>1340</th>\n",
       "      <td>힐링</td>\n",
       "      <td>Mysterious Night KLIM</td>\n",
       "      <td>4Pn3ZerNOO0</td>\n",
       "    </tr>\n",
       "    <tr>\n",
       "      <th>1341</th>\n",
       "      <td>힐링</td>\n",
       "      <td>constellations Hoffy Beats</td>\n",
       "      <td>lmyYqVqYplU</td>\n",
       "    </tr>\n",
       "    <tr>\n",
       "      <th>1342</th>\n",
       "      <td>힐링</td>\n",
       "      <td>벚꽃 흩날리는 날 Angella Kim(안젤라김)</td>\n",
       "      <td>lt_4lut596A</td>\n",
       "    </tr>\n",
       "  </tbody>\n",
       "</table>\n",
       "<p>1343 rows × 3 columns</p>\n",
       "</div>"
      ],
      "text/plain": [
       "      theme                 title_artist        url_v\n",
       "0     사랑/기쁨                 사랑 그 깊은 곳 정인  dp9ooFjjp9g\n",
       "1     사랑/기쁨         Like Water 웬디(WENDY)  CAfarUrfG9o\n",
       "2     사랑/기쁨        난 당신의 고요함이 오왠(O.WHEN)  dR5IAVeUqyI\n",
       "3     사랑/기쁨                       꽃말 신인류  QKm99bWL3TQ\n",
       "4     사랑/기쁨     우리 사이 은하수를 만들어 오존(O3ohn)  r_NEGkyfdtM\n",
       "...     ...                          ...          ...\n",
       "1338     힐링               Bouquet Nogymx  yO--QNwlFnw\n",
       "1339     힐링         Nella Laguna Wun Two  Fe60FUzrpJE\n",
       "1340     힐링        Mysterious Night KLIM  4Pn3ZerNOO0\n",
       "1341     힐링   constellations Hoffy Beats  lmyYqVqYplU\n",
       "1342     힐링  벚꽃 흩날리는 날 Angella Kim(안젤라김)  lt_4lut596A\n",
       "\n",
       "[1343 rows x 3 columns]"
      ]
     },
     "execution_count": 17,
     "metadata": {},
     "output_type": "execute_result"
    }
   ],
   "source": [
    "df"
   ]
  },
  {
   "cell_type": "code",
   "execution_count": 19,
   "metadata": {},
   "outputs": [],
   "source": [
    "with open('theme_title_artist_url_records.json', 'w', encoding='utf-8') as f:\n",
    "    df.to_json(f, force_ascii=False, orient='records')"
   ]
  },
  {
   "cell_type": "code",
   "execution_count": 20,
   "metadata": {},
   "outputs": [],
   "source": [
    "with open('theme_title_artist_url_columns.json', 'w', encoding='utf-8') as f:\n",
    "    df.to_json(f, force_ascii=False, orient='columns') "
   ]
  },
  {
   "cell_type": "code",
   "execution_count": null,
   "metadata": {},
   "outputs": [],
   "source": []
  }
 ],
 "metadata": {
  "kernelspec": {
   "display_name": "Python 3.7.16 ('scrapy')",
   "language": "python",
   "name": "python3"
  },
  "language_info": {
   "codemirror_mode": {
    "name": "ipython",
    "version": 3
   },
   "file_extension": ".py",
   "mimetype": "text/x-python",
   "name": "python",
   "nbconvert_exporter": "python",
   "pygments_lexer": "ipython3",
   "version": "3.7.16"
  },
  "orig_nbformat": 4,
  "vscode": {
   "interpreter": {
    "hash": "89f2608b9c8c93d5d1a1551aadcf951cf7a6ded39afbf442850111ba01dca86c"
   }
  }
 },
 "nbformat": 4,
 "nbformat_minor": 2
}
